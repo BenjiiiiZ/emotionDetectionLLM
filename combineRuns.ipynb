{
 "cells": [
  {
   "cell_type": "markdown",
   "metadata": {},
   "source": [
    "This notebook can be used if you want to combine multiple runs together. Put each run in a CSV file and run the code."
   ]
  },
  {
   "cell_type": "code",
   "execution_count": null,
   "metadata": {},
   "outputs": [],
   "source": [
    "# oneshotCoT\n",
    "import ollama\n",
    "import csv\n",
    "import pandas as pd\n",
    "import numpy\n",
    "\n",
    "runs = {}\n",
    "methodRuns = 11\n",
    "zeroshot = 'runs/zeroShotRuns/run'\n",
    "oneshot = 'runs/oneShotRuns/run'\n",
    "fewshot = 'runs/fewShotRuns/run'\n",
    "zeroShotCoT = 'runs/zeroShotCoTRuns/run'\n",
    "oneShotCoT = 'runs/oneShotCoTRuns/run'\n",
    "fewShotCoT = 'runs/fewShotCoTRuns/run'\n",
    "\n",
    "# this part reads each csv to a dataframe and ensures only the labels are copied\n",
    "current = zeroshot\n",
    "for n in range(1, 11):\n",
    "    csvPath = current + str(n) + '.csv'\n",
    "    res = pd.read_csv(csvPath, sep='{', header=None)\n",
    "    res.columns = [\"rows\", \"text\"]\n",
    "    res[[\"labels\", \"num\"]] = res[\"text\"].str.split(\"}\", expand=True)\n",
    "    runs[\"response\" + str(n)] = res[[\"labels\"]].copy()\n",
    "\n",
    "display(runs[\"response2\"])"
   ]
  },
  {
   "cell_type": "code",
   "execution_count": null,
   "metadata": {},
   "outputs": [],
   "source": [
    "# From the response we create a dataframe in the same format as our annotated labels\n",
    "# First we need a list of labels\n",
    "labelsToAnnotate: str = \"admiration;amusement;anger;annoyance;\\\"approval;caring;confusion;curiosity;desire;disappointment;disapproval;disgust;embarrassment;excitement;fear;gratitude;grief;joy;love;nervousness;optimism;pride;realization;relief;remorse;sadness;suprise;neutral\"\n",
    "labelsList = labelsToAnnotate.split(\";\")\n",
    "\n",
    "# Then for each method run\n",
    "for n in range (1, methodRuns):\n",
    "   # Sometimes the LLM returns the labels with uppercases, these should be changed to lowercase\n",
    "   runs[\"response\" + str(n)][\"labels\"] = runs[\"response\" + str(n)][\"labels\"].apply(lambda x: x.lower())\n",
    "   # We go over each of these labels\n",
    "   for label in labelsList:\n",
    "      # And add a column with the correct name by d[][label]\n",
    "      # Then for each row we either assign 1 if the label shows up in the text and 0 if the label does not show up in the text at all.\n",
    "      # As the LLM sometimes gives emotions in the text followed by :0, those are filtered out. Other unneeded info is filtered likewise.\n",
    "      runs[\"response\" + str(n)][label] = runs[\"response\" + str(n)].apply(lambda row: 0 if label + \"\\\": 0,\" in row.labels else 0 if label + \"\\\":0,\" in row.labels else 0 if label + \"\\\": false,\" in row.labels else 1 if label in row.labels else  0, axis=1) \n",
    "\n",
    "# transform the result data to a numpy array to do evaluation on\n",
    "frameResults = {}\n",
    "numResults = {}\n",
    "\n",
    "# For each method run\n",
    "for n in range (1,methodRuns):\n",
    "    # We drop the unneeded columns, which are the labels given by the LLM and a empty column it adds\n",
    "    frameResults[\"response\" + str(n)] = runs[\"response\" + str(n)].drop(['labels'], axis=1)\n",
    "    # then we turn the dataframe into a numpy array\n",
    "    numResults[\"results\" + str(n)] = pd.DataFrame.to_numpy(frameResults[\"response\" + str(n)])\n",
    "\n",
    "sumResults =  numResults[\"results1\"]\n",
    "for n in range (2, methodRuns):\n",
    "    sumResults = numpy.add(sumResults, numResults[\"results\" + str(n)])\n",
    "\n",
    "# this printed array can be copied over to the resultEvaluation notebook\n",
    "print(repr(sumResults))"
   ]
  }
 ],
 "metadata": {
  "kernelspec": {
   "display_name": "Python 3",
   "language": "python",
   "name": "python3"
  },
  "language_info": {
   "codemirror_mode": {
    "name": "ipython",
    "version": 3
   },
   "file_extension": ".py",
   "mimetype": "text/x-python",
   "name": "python",
   "nbconvert_exporter": "python",
   "pygments_lexer": "ipython3",
   "version": "3.9.0"
  }
 },
 "nbformat": 4,
 "nbformat_minor": 2
}
